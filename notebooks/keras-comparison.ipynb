{
 "cells": [
  {
   "cell_type": "code",
   "execution_count": 2,
   "metadata": {},
   "outputs": [],
   "source": [
    "import pandas as pd\n",
    "import os"
   ]
  },
  {
   "cell_type": "code",
   "execution_count": 7,
   "metadata": {},
   "outputs": [],
   "source": [
    "data = pd.read_csv('data.csv', low_memory=True)"
   ]
  },
  {
   "cell_type": "code",
   "execution_count": 8,
   "metadata": {},
   "outputs": [
    {
     "name": "stdout",
     "output_type": "stream",
     "text": [
      "<class 'pandas.core.frame.DataFrame'>\n",
      "RangeIndex: 500000 entries, 0 to 499999\n",
      "Data columns (total 10 columns):\n",
      " #   Column    Non-Null Count   Dtype  \n",
      "---  ------    --------------   -----  \n",
      " 0   objid     500000 non-null  float64\n",
      " 1   ra        500000 non-null  float64\n",
      " 2   dec       500000 non-null  float64\n",
      " 3   u         500000 non-null  float64\n",
      " 4   g         500000 non-null  float64\n",
      " 5   r         500000 non-null  float64\n",
      " 6   i         500000 non-null  float64\n",
      " 7   z         500000 non-null  float64\n",
      " 8   redshift  500000 non-null  float64\n",
      " 9   class     500000 non-null  object \n",
      "dtypes: float64(9), object(1)\n",
      "memory usage: 36.2+ MB\n"
     ]
    }
   ],
   "source": [
    "data.info()"
   ]
  },
  {
   "cell_type": "code",
   "execution_count": 9,
   "metadata": {},
   "outputs": [
    {
     "data": {
      "text/html": [
       "<div>\n",
       "<style scoped>\n",
       "    .dataframe tbody tr th:only-of-type {\n",
       "        vertical-align: middle;\n",
       "    }\n",
       "\n",
       "    .dataframe tbody tr th {\n",
       "        vertical-align: top;\n",
       "    }\n",
       "\n",
       "    .dataframe thead th {\n",
       "        text-align: right;\n",
       "    }\n",
       "</style>\n",
       "<table border=\"1\" class=\"dataframe\">\n",
       "  <thead>\n",
       "    <tr style=\"text-align: right;\">\n",
       "      <th></th>\n",
       "      <th>objid</th>\n",
       "      <th>ra</th>\n",
       "      <th>dec</th>\n",
       "      <th>u</th>\n",
       "      <th>g</th>\n",
       "      <th>r</th>\n",
       "      <th>i</th>\n",
       "      <th>z</th>\n",
       "      <th>redshift</th>\n",
       "      <th>class</th>\n",
       "    </tr>\n",
       "  </thead>\n",
       "  <tbody>\n",
       "    <tr>\n",
       "      <th>0</th>\n",
       "      <td>1.237669e+18</td>\n",
       "      <td>262.675447</td>\n",
       "      <td>7.033739</td>\n",
       "      <td>19.19479</td>\n",
       "      <td>16.72763</td>\n",
       "      <td>15.69870</td>\n",
       "      <td>15.32512</td>\n",
       "      <td>15.11311</td>\n",
       "      <td>0.000117</td>\n",
       "      <td>STAR</td>\n",
       "    </tr>\n",
       "    <tr>\n",
       "      <th>1</th>\n",
       "      <td>1.237669e+18</td>\n",
       "      <td>263.155623</td>\n",
       "      <td>7.260996</td>\n",
       "      <td>17.21147</td>\n",
       "      <td>16.16533</td>\n",
       "      <td>15.79078</td>\n",
       "      <td>15.62873</td>\n",
       "      <td>15.58098</td>\n",
       "      <td>0.000075</td>\n",
       "      <td>STAR</td>\n",
       "    </tr>\n",
       "    <tr>\n",
       "      <th>2</th>\n",
       "      <td>1.237669e+18</td>\n",
       "      <td>262.749186</td>\n",
       "      <td>7.363354</td>\n",
       "      <td>17.57057</td>\n",
       "      <td>16.54758</td>\n",
       "      <td>16.14557</td>\n",
       "      <td>15.96953</td>\n",
       "      <td>15.89596</td>\n",
       "      <td>-0.000898</td>\n",
       "      <td>STAR</td>\n",
       "    </tr>\n",
       "    <tr>\n",
       "      <th>3</th>\n",
       "      <td>1.237669e+18</td>\n",
       "      <td>262.221093</td>\n",
       "      <td>6.947966</td>\n",
       "      <td>22.68772</td>\n",
       "      <td>20.27666</td>\n",
       "      <td>19.59911</td>\n",
       "      <td>19.29291</td>\n",
       "      <td>19.32655</td>\n",
       "      <td>-0.000175</td>\n",
       "      <td>STAR</td>\n",
       "    </tr>\n",
       "    <tr>\n",
       "      <th>4</th>\n",
       "      <td>1.237669e+18</td>\n",
       "      <td>263.367550</td>\n",
       "      <td>7.020189</td>\n",
       "      <td>19.29753</td>\n",
       "      <td>18.01646</td>\n",
       "      <td>17.43456</td>\n",
       "      <td>17.21292</td>\n",
       "      <td>17.05329</td>\n",
       "      <td>-0.000228</td>\n",
       "      <td>STAR</td>\n",
       "    </tr>\n",
       "  </tbody>\n",
       "</table>\n",
       "</div>"
      ],
      "text/plain": [
       "          objid          ra       dec         u         g         r         i  \\\n",
       "0  1.237669e+18  262.675447  7.033739  19.19479  16.72763  15.69870  15.32512   \n",
       "1  1.237669e+18  263.155623  7.260996  17.21147  16.16533  15.79078  15.62873   \n",
       "2  1.237669e+18  262.749186  7.363354  17.57057  16.54758  16.14557  15.96953   \n",
       "3  1.237669e+18  262.221093  6.947966  22.68772  20.27666  19.59911  19.29291   \n",
       "4  1.237669e+18  263.367550  7.020189  19.29753  18.01646  17.43456  17.21292   \n",
       "\n",
       "          z  redshift class  \n",
       "0  15.11311  0.000117  STAR  \n",
       "1  15.58098  0.000075  STAR  \n",
       "2  15.89596 -0.000898  STAR  \n",
       "3  19.32655 -0.000175  STAR  \n",
       "4  17.05329 -0.000228  STAR  "
      ]
     },
     "execution_count": 9,
     "metadata": {},
     "output_type": "execute_result"
    }
   ],
   "source": [
    "data.head()"
   ]
  },
  {
   "cell_type": "code",
   "execution_count": 10,
   "metadata": {},
   "outputs": [
    {
     "data": {
      "text/plain": [
       "GALAXY    300045\n",
       "STAR      124392\n",
       "QSO        75563\n",
       "Name: class, dtype: int64"
      ]
     },
     "execution_count": 10,
     "metadata": {},
     "output_type": "execute_result"
    }
   ],
   "source": [
    "data['class'].value_counts()"
   ]
  },
  {
   "cell_type": "code",
   "execution_count": 14,
   "metadata": {},
   "outputs": [],
   "source": [
    "drop_cols = ['objid', 'ra', 'dec']"
   ]
  },
  {
   "cell_type": "code",
   "execution_count": 15,
   "metadata": {},
   "outputs": [],
   "source": [
    "data.drop(columns=drop_cols, inplace=True)"
   ]
  },
  {
   "cell_type": "code",
   "execution_count": 16,
   "metadata": {},
   "outputs": [
    {
     "data": {
      "text/html": [
       "<div>\n",
       "<style scoped>\n",
       "    .dataframe tbody tr th:only-of-type {\n",
       "        vertical-align: middle;\n",
       "    }\n",
       "\n",
       "    .dataframe tbody tr th {\n",
       "        vertical-align: top;\n",
       "    }\n",
       "\n",
       "    .dataframe thead th {\n",
       "        text-align: right;\n",
       "    }\n",
       "</style>\n",
       "<table border=\"1\" class=\"dataframe\">\n",
       "  <thead>\n",
       "    <tr style=\"text-align: right;\">\n",
       "      <th></th>\n",
       "      <th>u</th>\n",
       "      <th>g</th>\n",
       "      <th>r</th>\n",
       "      <th>i</th>\n",
       "      <th>z</th>\n",
       "      <th>redshift</th>\n",
       "      <th>class</th>\n",
       "    </tr>\n",
       "  </thead>\n",
       "  <tbody>\n",
       "    <tr>\n",
       "      <th>0</th>\n",
       "      <td>19.19479</td>\n",
       "      <td>16.72763</td>\n",
       "      <td>15.69870</td>\n",
       "      <td>15.32512</td>\n",
       "      <td>15.11311</td>\n",
       "      <td>0.000117</td>\n",
       "      <td>STAR</td>\n",
       "    </tr>\n",
       "    <tr>\n",
       "      <th>1</th>\n",
       "      <td>17.21147</td>\n",
       "      <td>16.16533</td>\n",
       "      <td>15.79078</td>\n",
       "      <td>15.62873</td>\n",
       "      <td>15.58098</td>\n",
       "      <td>0.000075</td>\n",
       "      <td>STAR</td>\n",
       "    </tr>\n",
       "    <tr>\n",
       "      <th>2</th>\n",
       "      <td>17.57057</td>\n",
       "      <td>16.54758</td>\n",
       "      <td>16.14557</td>\n",
       "      <td>15.96953</td>\n",
       "      <td>15.89596</td>\n",
       "      <td>-0.000898</td>\n",
       "      <td>STAR</td>\n",
       "    </tr>\n",
       "    <tr>\n",
       "      <th>3</th>\n",
       "      <td>22.68772</td>\n",
       "      <td>20.27666</td>\n",
       "      <td>19.59911</td>\n",
       "      <td>19.29291</td>\n",
       "      <td>19.32655</td>\n",
       "      <td>-0.000175</td>\n",
       "      <td>STAR</td>\n",
       "    </tr>\n",
       "    <tr>\n",
       "      <th>4</th>\n",
       "      <td>19.29753</td>\n",
       "      <td>18.01646</td>\n",
       "      <td>17.43456</td>\n",
       "      <td>17.21292</td>\n",
       "      <td>17.05329</td>\n",
       "      <td>-0.000228</td>\n",
       "      <td>STAR</td>\n",
       "    </tr>\n",
       "  </tbody>\n",
       "</table>\n",
       "</div>"
      ],
      "text/plain": [
       "          u         g         r         i         z  redshift class\n",
       "0  19.19479  16.72763  15.69870  15.32512  15.11311  0.000117  STAR\n",
       "1  17.21147  16.16533  15.79078  15.62873  15.58098  0.000075  STAR\n",
       "2  17.57057  16.54758  16.14557  15.96953  15.89596 -0.000898  STAR\n",
       "3  22.68772  20.27666  19.59911  19.29291  19.32655 -0.000175  STAR\n",
       "4  19.29753  18.01646  17.43456  17.21292  17.05329 -0.000228  STAR"
      ]
     },
     "execution_count": 16,
     "metadata": {},
     "output_type": "execute_result"
    }
   ],
   "source": [
    "data.head(5)"
   ]
  },
  {
   "cell_type": "code",
   "execution_count": 21,
   "metadata": {},
   "outputs": [],
   "source": [
    "from sklearn.model_selection import train_test_split"
   ]
  },
  {
   "cell_type": "code",
   "execution_count": 22,
   "metadata": {},
   "outputs": [],
   "source": [
    "X = data.drop(columns=['class'])\n",
    "y = data['class']"
   ]
  },
  {
   "cell_type": "code",
   "execution_count": 23,
   "metadata": {},
   "outputs": [
    {
     "data": {
      "text/html": [
       "<div>\n",
       "<style scoped>\n",
       "    .dataframe tbody tr th:only-of-type {\n",
       "        vertical-align: middle;\n",
       "    }\n",
       "\n",
       "    .dataframe tbody tr th {\n",
       "        vertical-align: top;\n",
       "    }\n",
       "\n",
       "    .dataframe thead th {\n",
       "        text-align: right;\n",
       "    }\n",
       "</style>\n",
       "<table border=\"1\" class=\"dataframe\">\n",
       "  <thead>\n",
       "    <tr style=\"text-align: right;\">\n",
       "      <th></th>\n",
       "      <th>u</th>\n",
       "      <th>g</th>\n",
       "      <th>r</th>\n",
       "      <th>i</th>\n",
       "      <th>z</th>\n",
       "      <th>redshift</th>\n",
       "    </tr>\n",
       "  </thead>\n",
       "  <tbody>\n",
       "    <tr>\n",
       "      <th>0</th>\n",
       "      <td>19.19479</td>\n",
       "      <td>16.72763</td>\n",
       "      <td>15.69870</td>\n",
       "      <td>15.32512</td>\n",
       "      <td>15.11311</td>\n",
       "      <td>0.000117</td>\n",
       "    </tr>\n",
       "    <tr>\n",
       "      <th>1</th>\n",
       "      <td>17.21147</td>\n",
       "      <td>16.16533</td>\n",
       "      <td>15.79078</td>\n",
       "      <td>15.62873</td>\n",
       "      <td>15.58098</td>\n",
       "      <td>0.000075</td>\n",
       "    </tr>\n",
       "    <tr>\n",
       "      <th>2</th>\n",
       "      <td>17.57057</td>\n",
       "      <td>16.54758</td>\n",
       "      <td>16.14557</td>\n",
       "      <td>15.96953</td>\n",
       "      <td>15.89596</td>\n",
       "      <td>-0.000898</td>\n",
       "    </tr>\n",
       "    <tr>\n",
       "      <th>3</th>\n",
       "      <td>22.68772</td>\n",
       "      <td>20.27666</td>\n",
       "      <td>19.59911</td>\n",
       "      <td>19.29291</td>\n",
       "      <td>19.32655</td>\n",
       "      <td>-0.000175</td>\n",
       "    </tr>\n",
       "    <tr>\n",
       "      <th>4</th>\n",
       "      <td>19.29753</td>\n",
       "      <td>18.01646</td>\n",
       "      <td>17.43456</td>\n",
       "      <td>17.21292</td>\n",
       "      <td>17.05329</td>\n",
       "      <td>-0.000228</td>\n",
       "    </tr>\n",
       "  </tbody>\n",
       "</table>\n",
       "</div>"
      ],
      "text/plain": [
       "          u         g         r         i         z  redshift\n",
       "0  19.19479  16.72763  15.69870  15.32512  15.11311  0.000117\n",
       "1  17.21147  16.16533  15.79078  15.62873  15.58098  0.000075\n",
       "2  17.57057  16.54758  16.14557  15.96953  15.89596 -0.000898\n",
       "3  22.68772  20.27666  19.59911  19.29291  19.32655 -0.000175\n",
       "4  19.29753  18.01646  17.43456  17.21292  17.05329 -0.000228"
      ]
     },
     "execution_count": 23,
     "metadata": {},
     "output_type": "execute_result"
    }
   ],
   "source": [
    "X.head()"
   ]
  },
  {
   "cell_type": "code",
   "execution_count": 24,
   "metadata": {},
   "outputs": [],
   "source": [
    "from sklearn.preprocessing import LabelEncoder\n",
    "from tensorflow.keras.utils import to_categorical"
   ]
  },
  {
   "cell_type": "code",
   "execution_count": 25,
   "metadata": {},
   "outputs": [],
   "source": [
    "le = LabelEncoder()\n",
    "y = le.fit_transform(y)\n",
    "y = to_categorical(y=y, num_classes=3)"
   ]
  },
  {
   "cell_type": "code",
   "execution_count": 29,
   "metadata": {},
   "outputs": [
    {
     "data": {
      "text/plain": [
       "array([[0., 0., 1.],\n",
       "       [0., 0., 1.],\n",
       "       [0., 0., 1.],\n",
       "       [0., 0., 1.],\n",
       "       [0., 0., 1.],\n",
       "       [0., 0., 1.],\n",
       "       [0., 0., 1.],\n",
       "       [0., 0., 1.],\n",
       "       [0., 0., 1.],\n",
       "       [0., 0., 1.]], dtype=float32)"
      ]
     },
     "execution_count": 29,
     "metadata": {},
     "output_type": "execute_result"
    }
   ],
   "source": [
    "y[0:10]"
   ]
  },
  {
   "cell_type": "code",
   "execution_count": 30,
   "metadata": {},
   "outputs": [],
   "source": [
    "X_train, X_test, y_train, y_test = train_test_split(X, y, test_size = 0.2, random_state=101)"
   ]
  },
  {
   "cell_type": "code",
   "execution_count": 31,
   "metadata": {},
   "outputs": [],
   "source": [
    "from sklearn.preprocessing import StandardScaler"
   ]
  },
  {
   "cell_type": "code",
   "execution_count": 32,
   "metadata": {},
   "outputs": [],
   "source": [
    "sc = StandardScaler()\n",
    "\n",
    "X_train = sc.fit_transform(X_train)\n",
    "X_test = sc.transform(X_test)"
   ]
  },
  {
   "cell_type": "code",
   "execution_count": 33,
   "metadata": {},
   "outputs": [
    {
     "data": {
      "text/plain": [
       "(400000, 6)"
      ]
     },
     "execution_count": 33,
     "metadata": {},
     "output_type": "execute_result"
    }
   ],
   "source": [
    "X_train.shape"
   ]
  },
  {
   "cell_type": "code",
   "execution_count": 34,
   "metadata": {},
   "outputs": [
    {
     "data": {
      "text/plain": [
       "array([[-2.31964328e-02, -2.72835433e-02, -2.87348658e-02,\n",
       "        -2.51354765e-02, -2.75988719e-02, -4.80443884e-01],\n",
       "       [ 2.87670889e-02,  9.91599021e-04, -8.49806721e-03,\n",
       "        -8.90615233e-03, -1.03066555e-02, -2.67192717e-01],\n",
       "       [ 1.25045705e-02,  4.69428361e-02,  3.53166834e-02,\n",
       "         2.47393698e-02,  2.52834868e-02,  1.46720879e-01],\n",
       "       [-5.29211866e-02, -5.53217949e-02, -5.05622648e-02,\n",
       "        -4.22757436e-02, -4.02173224e-02, -6.73902791e-01],\n",
       "       [ 6.17492317e-02,  5.40008309e-02,  4.25855996e-02,\n",
       "         3.14629084e-02,  2.80683533e-02,  1.33224275e-01],\n",
       "       [-3.17397714e-02, -1.48588354e-02,  1.01395292e-04,\n",
       "         1.08104256e-02,  1.30584987e-02,  2.58280307e+00],\n",
       "       [ 2.79326710e-02,  1.09759109e-02,  2.13047077e-04,\n",
       "        -1.93583772e-04, -1.24371868e-03, -2.31262392e-01],\n",
       "       [ 4.64724142e-02,  4.19049038e-02,  3.03961297e-02,\n",
       "         2.06179473e-02,  1.95023203e-02,  5.26560666e-02],\n",
       "       [ 3.07860415e-02,  3.09087903e-02,  2.08479770e-02,\n",
       "         1.64592504e-02,  1.66726467e-02, -3.03543643e-02],\n",
       "       [ 8.00141703e-03,  2.34538981e-02,  3.79858261e-02,\n",
       "         4.37801194e-02,  4.52270236e-02,  2.85712754e+00]])"
      ]
     },
     "execution_count": 34,
     "metadata": {},
     "output_type": "execute_result"
    }
   ],
   "source": [
    "X_train[0:10]"
   ]
  },
  {
   "cell_type": "code",
   "execution_count": 35,
   "metadata": {},
   "outputs": [
    {
     "data": {
      "text/plain": [
       "array([[1., 0., 0.],\n",
       "       [1., 0., 0.],\n",
       "       [1., 0., 0.],\n",
       "       [0., 0., 1.],\n",
       "       [1., 0., 0.],\n",
       "       [0., 1., 0.],\n",
       "       [1., 0., 0.],\n",
       "       [1., 0., 0.],\n",
       "       [1., 0., 0.],\n",
       "       [0., 1., 0.]], dtype=float32)"
      ]
     },
     "execution_count": 35,
     "metadata": {},
     "output_type": "execute_result"
    }
   ],
   "source": [
    "y_train[:10]"
   ]
  },
  {
   "cell_type": "code",
   "execution_count": 36,
   "metadata": {},
   "outputs": [],
   "source": [
    "import time"
   ]
  },
  {
   "cell_type": "code",
   "execution_count": 37,
   "metadata": {},
   "outputs": [],
   "source": [
    "from tensorflow.keras.models import Sequential\n",
    "from tensorflow.keras.layers import Dense"
   ]
  },
  {
   "cell_type": "code",
   "execution_count": 38,
   "metadata": {},
   "outputs": [
    {
     "name": "stdout",
     "output_type": "stream",
     "text": [
      "WARNING:tensorflow:From /home/pi/.local/lib/python3.7/site-packages/tensorflow_core/python/ops/resource_variable_ops.py:1630: calling BaseResourceVariable.__init__ (from tensorflow.python.ops.resource_variable_ops) with constraint is deprecated and will be removed in a future version.\n",
      "Instructions for updating:\n",
      "If using Keras pass *_constraint arguments to layers.\n",
      "Model: \"sequential\"\n",
      "_________________________________________________________________\n",
      "Layer (type)                 Output Shape              Param #   \n",
      "=================================================================\n",
      "dense (Dense)                (None, 64)                448       \n",
      "_________________________________________________________________\n",
      "dense_1 (Dense)              (None, 64)                4160      \n",
      "_________________________________________________________________\n",
      "dense_2 (Dense)              (None, 32)                2080      \n",
      "_________________________________________________________________\n",
      "dense_3 (Dense)              (None, 3)                 99        \n",
      "=================================================================\n",
      "Total params: 6,787\n",
      "Trainable params: 6,787\n",
      "Non-trainable params: 0\n",
      "_________________________________________________________________\n"
     ]
    }
   ],
   "source": [
    "model = Sequential()\n",
    "model.add(Dense(64, activation='relu', input_shape=(6,)))\n",
    "model.add(Dense(64, activation='relu'))\n",
    "model.add(Dense(32, activation='relu'))\n",
    "model.add(Dense(3, activation='softmax'))\n",
    "\n",
    "model.summary()"
   ]
  },
  {
   "cell_type": "code",
   "execution_count": 39,
   "metadata": {},
   "outputs": [],
   "source": [
    "model.compile(optimizer='rmsprop', loss='categorical_crossentropy', metrics=['acc'])"
   ]
  },
  {
   "cell_type": "code",
   "execution_count": 40,
   "metadata": {},
   "outputs": [
    {
     "name": "stdout",
     "output_type": "stream",
     "text": [
      "Train on 400000 samples\n",
      "Epoch 1/100\n",
      "400000/400000 [==============================] - 27s 68us/sample - loss: 0.1370 - acc: 0.9689\n",
      "Epoch 2/100\n",
      "400000/400000 [==============================] - 27s 69us/sample - loss: 0.0931 - acc: 0.9778\n",
      "Epoch 3/100\n",
      "400000/400000 [==============================] - 27s 69us/sample - loss: 0.0961 - acc: 0.9784\n",
      "Epoch 4/100\n",
      "400000/400000 [==============================] - 28s 69us/sample - loss: 0.1039 - acc: 0.9787\n",
      "Epoch 5/100\n",
      "400000/400000 [==============================] - 28s 70us/sample - loss: 0.1122 - acc: 0.9789\n",
      "Epoch 6/100\n",
      "400000/400000 [==============================] - 29s 73us/sample - loss: 0.1313 - acc: 0.9789\n",
      "Epoch 7/100\n",
      "400000/400000 [==============================] - 29s 72us/sample - loss: 0.1284 - acc: 0.9790\n",
      "Epoch 8/100\n",
      "400000/400000 [==============================] - 29s 73us/sample - loss: 0.1424 - acc: 0.9794\n",
      "Epoch 9/100\n",
      "400000/400000 [==============================] - 29s 73us/sample - loss: 0.1661 - acc: 0.9791\n",
      "Epoch 10/100\n",
      "400000/400000 [==============================] - 29s 73us/sample - loss: 0.1416 - acc: 0.9794\n",
      "Epoch 11/100\n",
      "400000/400000 [==============================] - 29s 73us/sample - loss: 0.1988 - acc: 0.9795\n",
      "Epoch 12/100\n",
      "400000/400000 [==============================] - 29s 73us/sample - loss: 0.2759 - acc: 0.9796\n",
      "Epoch 13/100\n",
      "400000/400000 [==============================] - 29s 74us/sample - loss: 0.2858 - acc: 0.9792\n",
      "Epoch 14/100\n",
      "400000/400000 [==============================] - 29s 73us/sample - loss: 0.3458 - acc: 0.9795\n",
      "Epoch 15/100\n",
      "400000/400000 [==============================] - 29s 73us/sample - loss: 0.4483 - acc: 0.9798\n",
      "Epoch 16/100\n",
      "400000/400000 [==============================] - 29s 73us/sample - loss: 0.3832 - acc: 0.9799\n",
      "Epoch 17/100\n",
      "400000/400000 [==============================] - 29s 74us/sample - loss: 0.6277 - acc: 0.9796\n",
      "Epoch 18/100\n",
      "400000/400000 [==============================] - 29s 73us/sample - loss: 0.7858 - acc: 0.9797\n",
      "Epoch 19/100\n",
      "400000/400000 [==============================] - 29s 74us/sample - loss: 0.8240 - acc: 0.9801\n",
      "Epoch 20/100\n",
      "400000/400000 [==============================] - 29s 74us/sample - loss: 0.7042 - acc: 0.9799\n",
      "Epoch 21/100\n",
      "400000/400000 [==============================] - 33s 83us/sample - loss: 0.6442 - acc: 0.9801\n",
      "Epoch 22/100\n",
      "400000/400000 [==============================] - 31s 78us/sample - loss: 0.7886 - acc: 0.9799\n",
      "Epoch 23/100\n",
      "400000/400000 [==============================] - 31s 78us/sample - loss: 0.9395 - acc: 0.9800\n",
      "Epoch 24/100\n",
      "400000/400000 [==============================] - 31s 79us/sample - loss: 0.9624 - acc: 0.9802\n",
      "Epoch 25/100\n",
      "400000/400000 [==============================] - 33s 82us/sample - loss: 0.8573 - acc: 0.9805\n",
      "Epoch 26/100\n",
      "400000/400000 [==============================] - 33s 83us/sample - loss: 0.9585 - acc: 0.9804\n",
      "Epoch 27/100\n",
      "400000/400000 [==============================] - 33s 83us/sample - loss: 0.8763 - acc: 0.9808\n",
      "Epoch 28/100\n",
      "400000/400000 [==============================] - 33s 83us/sample - loss: 1.1709 - acc: 0.9806\n",
      "Epoch 29/100\n",
      "400000/400000 [==============================] - 33s 84us/sample - loss: 1.4920 - acc: 0.9803\n",
      "Epoch 30/100\n",
      "400000/400000 [==============================] - 33s 83us/sample - loss: 1.2754 - acc: 0.9806\n",
      "Epoch 31/100\n",
      "400000/400000 [==============================] - 33s 83us/sample - loss: 2.1306 - acc: 0.9805\n",
      "Epoch 32/100\n",
      "400000/400000 [==============================] - 33s 82us/sample - loss: 2.2873 - acc: 0.9807\n",
      "Epoch 33/100\n",
      "400000/400000 [==============================] - 33s 83us/sample - loss: 4.9408 - acc: 0.9808\n",
      "Epoch 34/100\n",
      "400000/400000 [==============================] - 33s 83us/sample - loss: 5.0796 - acc: 0.9807\n",
      "Epoch 35/100\n",
      "400000/400000 [==============================] - 33s 83us/sample - loss: 9.3527 - acc: 0.9804\n",
      "Epoch 36/100\n",
      "400000/400000 [==============================] - 33s 83us/sample - loss: 10.8715 - acc: 0.9808\n",
      "Epoch 37/100\n",
      "400000/400000 [==============================] - 33s 84us/sample - loss: 14.6887 - acc: 0.9804\n",
      "Epoch 38/100\n",
      "400000/400000 [==============================] - 34s 85us/sample - loss: 18.8098 - acc: 0.9803\n",
      "Epoch 39/100\n",
      "400000/400000 [==============================] - 34s 84us/sample - loss: 40.4777 - acc: 0.9806\n",
      "Epoch 40/100\n",
      "400000/400000 [==============================] - 34s 84us/sample - loss: 26.2773 - acc: 0.9804\n",
      "Epoch 41/100\n",
      "400000/400000 [==============================] - 34s 84us/sample - loss: 33.8980 - acc: 0.9801\n",
      "Epoch 42/100\n",
      "400000/400000 [==============================] - 33s 83us/sample - loss: 43.2699 - acc: 0.9800\n",
      "Epoch 43/100\n",
      "400000/400000 [==============================] - 34s 84us/sample - loss: 114.8039 - acc: 0.9799\n",
      "Epoch 44/100\n",
      "400000/400000 [==============================] - 34s 85us/sample - loss: 124.4172 - acc: 0.9800\n",
      "Epoch 45/100\n",
      "400000/400000 [==============================] - 34s 85us/sample - loss: 120.7239 - acc: 0.9795\n",
      "Epoch 46/100\n",
      "400000/400000 [==============================] - 34s 84us/sample - loss: 205.7972 - acc: 0.9794\n",
      "Epoch 47/100\n",
      "400000/400000 [==============================] - 34s 85us/sample - loss: 215.1979 - acc: 0.9791\n",
      "Epoch 48/100\n",
      "400000/400000 [==============================] - 34s 85us/sample - loss: 228.6129 - acc: 0.9782\n",
      "Epoch 49/100\n",
      "400000/400000 [==============================] - 24s 59us/sample - loss: 229.0420 - acc: 0.9783\n",
      "Epoch 50/100\n",
      "400000/400000 [==============================] - 20s 51us/sample - loss: 293.4487 - acc: 0.9781\n",
      "Epoch 51/100\n",
      "400000/400000 [==============================] - 20s 51us/sample - loss: 233.6318 - acc: 0.9775\n",
      "Epoch 52/100\n",
      "400000/400000 [==============================] - 20s 50us/sample - loss: 353.4343 - acc: 0.9767\n",
      "Epoch 53/100\n",
      "400000/400000 [==============================] - 20s 50us/sample - loss: 415.9406 - acc: 0.9766\n",
      "Epoch 54/100\n",
      "400000/400000 [==============================] - 20s 50us/sample - loss: 423.4601 - acc: 0.9769\n",
      "Epoch 55/100\n",
      "400000/400000 [==============================] - 20s 50us/sample - loss: 377.6225 - acc: 0.9767\n",
      "Epoch 56/100\n",
      "400000/400000 [==============================] - 20s 51us/sample - loss: 512.6429 - acc: 0.9765\n",
      "Epoch 57/100\n",
      "400000/400000 [==============================] - 20s 50us/sample - loss: 533.0953 - acc: 0.9763\n",
      "Epoch 58/100\n",
      "400000/400000 [==============================] - 20s 49us/sample - loss: 728.9675 - acc: 0.9759\n",
      "Epoch 59/100\n",
      "400000/400000 [==============================] - 31s 76us/sample - loss: 681.4866 - acc: 0.9758\n",
      "Epoch 60/100\n",
      "400000/400000 [==============================] - 33s 84us/sample - loss: 956.3295 - acc: 0.9757\n",
      "Epoch 61/100\n",
      "400000/400000 [==============================] - 33s 83us/sample - loss: 972.0625 - acc: 0.9753\n",
      "Epoch 62/100\n",
      "400000/400000 [==============================] - 33s 83us/sample - loss: 1069.5400 - acc: 0.9751\n",
      "Epoch 63/100\n",
      "400000/400000 [==============================] - 33s 83us/sample - loss: 1017.7766 - acc: 0.9751\n",
      "Epoch 64/100\n",
      "400000/400000 [==============================] - 33s 83us/sample - loss: 1203.7243 - acc: 0.9749\n",
      "Epoch 65/100\n",
      "400000/400000 [==============================] - 33s 83us/sample - loss: 1564.4782 - acc: 0.9748\n",
      "Epoch 66/100\n",
      "400000/400000 [==============================] - 33s 83us/sample - loss: 1706.8649 - acc: 0.9746\n",
      "Epoch 67/100\n",
      "400000/400000 [==============================] - 33s 83us/sample - loss: 2219.4348 - acc: 0.9738\n",
      "Epoch 68/100\n",
      "400000/400000 [==============================] - 33s 83us/sample - loss: 1856.0577 - acc: 0.9737\n",
      "Epoch 69/100\n",
      "400000/400000 [==============================] - 33s 83us/sample - loss: 1936.5690 - acc: 0.9743\n",
      "Epoch 70/100\n",
      "400000/400000 [==============================] - 33s 82us/sample - loss: 1745.2514 - acc: 0.9741\n",
      "Epoch 71/100\n",
      "400000/400000 [==============================] - 33s 82us/sample - loss: 1811.2756 - acc: 0.9743\n",
      "Epoch 72/100\n",
      "400000/400000 [==============================] - 33s 82us/sample - loss: 2042.1325 - acc: 0.9739\n",
      "Epoch 73/100\n",
      "400000/400000 [==============================] - 33s 82us/sample - loss: 2167.9661 - acc: 0.9736\n",
      "Epoch 74/100\n",
      "400000/400000 [==============================] - 33s 82us/sample - loss: 2303.6315 - acc: 0.9738\n",
      "Epoch 75/100\n",
      "400000/400000 [==============================] - 33s 82us/sample - loss: 3205.4124 - acc: 0.9736\n",
      "Epoch 76/100\n",
      "400000/400000 [==============================] - 26s 66us/sample - loss: 3214.0778 - acc: 0.9736\n",
      "Epoch 77/100\n",
      "400000/400000 [==============================] - 26s 65us/sample - loss: 3335.5527 - acc: 0.9739\n",
      "Epoch 78/100\n",
      "400000/400000 [==============================] - 26s 66us/sample - loss: 2968.6061 - acc: 0.9733\n",
      "Epoch 79/100\n",
      "400000/400000 [==============================] - 26s 66us/sample - loss: 3574.5668 - acc: 0.9739\n",
      "Epoch 80/100\n",
      "400000/400000 [==============================] - 26s 65us/sample - loss: 3454.1006 - acc: 0.9736\n",
      "Epoch 81/100\n",
      "400000/400000 [==============================] - 30s 74us/sample - loss: 3910.1379 - acc: 0.9729\n",
      "Epoch 82/100\n",
      "400000/400000 [==============================] - 31s 77us/sample - loss: 4945.7884 - acc: 0.9737\n",
      "Epoch 83/100\n",
      "400000/400000 [==============================] - 31s 77us/sample - loss: 5403.3927 - acc: 0.9733\n",
      "Epoch 84/100\n",
      "400000/400000 [==============================] - 31s 77us/sample - loss: 5339.9708 - acc: 0.9734\n",
      "Epoch 85/100\n",
      "400000/400000 [==============================] - 31s 77us/sample - loss: 7059.9142 - acc: 0.9730\n",
      "Epoch 86/100\n",
      "400000/400000 [==============================] - 31s 77us/sample - loss: 8236.2555 - acc: 0.9732\n",
      "Epoch 87/100\n",
      "400000/400000 [==============================] - 31s 77us/sample - loss: 8050.9633 - acc: 0.9732\n",
      "Epoch 88/100\n",
      "400000/400000 [==============================] - 32s 80us/sample - loss: 10970.9713 - acc: 0.9724\n",
      "Epoch 89/100\n",
      "400000/400000 [==============================] - 32s 80us/sample - loss: 10337.5428 - acc: 0.9723\n",
      "Epoch 90/100\n",
      "400000/400000 [==============================] - 32s 80us/sample - loss: 13095.4532 - acc: 0.9728\n",
      "Epoch 91/100\n",
      "400000/400000 [==============================] - 32s 80us/sample - loss: 16358.5977 - acc: 0.9730\n",
      "Epoch 92/100\n",
      "400000/400000 [==============================] - 32s 80us/sample - loss: 19340.6624 - acc: 0.9731\n",
      "Epoch 93/100\n",
      "400000/400000 [==============================] - 32s 80us/sample - loss: 20790.0705 - acc: 0.9731\n",
      "Epoch 94/100\n",
      "400000/400000 [==============================] - 32s 81us/sample - loss: 20814.0921 - acc: 0.9721\n",
      "Epoch 95/100\n",
      "400000/400000 [==============================] - 32s 80us/sample - loss: 20884.9409 - acc: 0.9724\n",
      "Epoch 96/100\n",
      "400000/400000 [==============================] - 33s 81us/sample - loss: 21121.9520 - acc: 0.9726\n",
      "Epoch 97/100\n",
      "400000/400000 [==============================] - 32s 81us/sample - loss: 21994.4668 - acc: 0.9722\n",
      "Epoch 98/100\n",
      "400000/400000 [==============================] - 32s 81us/sample - loss: 22716.5950 - acc: 0.9732\n",
      "Epoch 99/100\n",
      "400000/400000 [==============================] - 32s 81us/sample - loss: 24157.1115 - acc: 0.9733\n",
      "Epoch 100/100\n",
      "400000/400000 [==============================] - 32s 81us/sample - loss: 25281.8874 - acc: 0.9734\n",
      "ANN training time: 3035.51 seconds\n"
     ]
    }
   ],
   "source": [
    "start = time.time()\n",
    "model.fit(X_train, y_train, batch_size=128, epochs=100)\n",
    "duration = time.time() - start\n",
    "print('ANN training time: {:.2f} seconds'.format(duration))"
   ]
  },
  {
   "cell_type": "code",
   "execution_count": 41,
   "metadata": {},
   "outputs": [
    {
     "name": "stdout",
     "output_type": "stream",
     "text": [
      "100000/100000 [==============================] - 3s 35us/sample - loss: 16041.1478 - acc: 0.8249\n"
     ]
    }
   ],
   "source": [
    "_, test_acc = model.evaluate(X_test, y_test, batch_size=128)"
   ]
  },
  {
   "cell_type": "code",
   "execution_count": 42,
   "metadata": {},
   "outputs": [
    {
     "name": "stdout",
     "output_type": "stream",
     "text": [
      "ANN Test Accuracy: 0.825\n"
     ]
    }
   ],
   "source": [
    "print('ANN Test Accuracy: {:.3f}'.format(test_acc))"
   ]
  },
  {
   "cell_type": "code",
   "execution_count": null,
   "metadata": {},
   "outputs": [],
   "source": []
  }
 ],
 "metadata": {
  "kernelspec": {
   "display_name": "Python 3",
   "language": "python",
   "name": "python3"
  },
  "language_info": {
   "codemirror_mode": {
    "name": "ipython",
    "version": 3
   },
   "file_extension": ".py",
   "mimetype": "text/x-python",
   "name": "python",
   "nbconvert_exporter": "python",
   "pygments_lexer": "ipython3",
   "version": "3.7.3"
  }
 },
 "nbformat": 4,
 "nbformat_minor": 2
}
